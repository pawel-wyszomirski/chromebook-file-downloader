{
  "nbformat": 4,
  "nbformat_minor": 0,
  "metadata": {
    "colab": {
      "provenance": [],
      "authorship_tag": "ABX9TyMCMwrXyGeG2KZhFfb8Sd9T",
      "include_colab_link": true
    },
    "kernelspec": {
      "name": "python3",
      "display_name": "Python 3"
    },
    "language_info": {
      "name": "python"
    }
  },
  "cells": [
    {
      "cell_type": "markdown",
      "metadata": {
        "id": "view-in-github",
        "colab_type": "text"
      },
      "source": [
        "<a href=\"https://colab.research.google.com/github/pawel-wyszomirski/chromebook-file-downloader/blob/main/chromebook_file_downloader.ipynb\" target=\"_parent\"><img src=\"https://colab.research.google.com/assets/colab-badge.svg\" alt=\"Open In Colab\"/></a>"
      ]
    },
    {
      "cell_type": "code",
      "execution_count": 1,
      "metadata": {
        "colab": {
          "base_uri": "https://localhost:8080/"
        },
        "id": "FFPnerceJ25Y",
        "outputId": "176463de-facd-4d11-a745-e24c38685fc6"
      },
      "outputs": [
        {
          "output_type": "stream",
          "name": "stdout",
          "text": [
            "Requirement already satisfied: requests in /usr/local/lib/python3.10/dist-packages (2.32.3)\n",
            "Requirement already satisfied: charset-normalizer<4,>=2 in /usr/local/lib/python3.10/dist-packages (from requests) (3.4.0)\n",
            "Requirement already satisfied: idna<4,>=2.5 in /usr/local/lib/python3.10/dist-packages (from requests) (3.10)\n",
            "Requirement already satisfied: urllib3<3,>=1.21.1 in /usr/local/lib/python3.10/dist-packages (from requests) (2.2.3)\n",
            "Requirement already satisfied: certifi>=2017.4.17 in /usr/local/lib/python3.10/dist-packages (from requests) (2024.8.30)\n"
          ]
        }
      ],
      "source": [
        "!pip install requests"
      ]
    },
    {
      "cell_type": "code",
      "source": [
        "import requests\n",
        "from urllib.parse import urlparse, unquote\n",
        "import os\n",
        "from google.colab import drive\n",
        "\n",
        "# Montowanie Google Drive\n",
        "drive.mount('/content/drive')\n",
        "\n",
        "def get_filename_from_url(url):\n",
        "    # Pobierz ścieżkę z URL\n",
        "    path = urlparse(url).path\n",
        "    # Zdekoduj znaki specjalne (np. %20)\n",
        "    path = unquote(path)\n",
        "    # Weź ostatnią część ścieżki jako nazwę pliku\n",
        "    filename = os.path.basename(path)\n",
        "    return filename\n",
        "\n",
        "def download_file():\n",
        "    # Pobierz URL od użytkownika\n",
        "    url = input(\"Podaj URL pliku do pobrania: \")\n",
        "\n",
        "    try:\n",
        "        # Pobieranie pliku\n",
        "        response = requests.get(url)\n",
        "        response.raise_for_status()\n",
        "\n",
        "        # Pobierz oryginalną nazwę pliku z URL\n",
        "        filename = get_filename_from_url(url)\n",
        "\n",
        "        # Jeśli nie udało się pobrać nazwy pliku, użyj domyślnej\n",
        "        if not filename:\n",
        "            filename = \"pobrany_plik\"\n",
        "\n",
        "        # Określ ścieżkę zapisu na Google Drive\n",
        "        save_path = '/content/drive/MyDrive/'\n",
        "        full_path = os.path.join(save_path, filename)\n",
        "\n",
        "        # Zapisywanie pliku\n",
        "        with open(full_path, 'wb') as file:\n",
        "            file.write(response.content)\n",
        "\n",
        "        print(f\"Plik został pomyślnie pobrany i zapisany jako: {full_path}\")\n",
        "\n",
        "    except requests.exceptions.RequestException as e:\n",
        "        print(f\"Wystąpił błąd podczas pobierania pliku: {e}\")\n",
        "    except Exception as e:\n",
        "        print(f\"Wystąpił nieoczekiwany błąd: {e}\")\n",
        "\n",
        "# Uruchom funkcję\n",
        "download_file()"
      ],
      "metadata": {
        "colab": {
          "base_uri": "https://localhost:8080/"
        },
        "id": "iuKWx--TJ5vM",
        "outputId": "b3cd1e85-54e6-4b8d-c158-28845252bd50"
      },
      "execution_count": 5,
      "outputs": [
        {
          "output_type": "stream",
          "name": "stdout",
          "text": [
            "Drive already mounted at /content/drive; to attempt to forcibly remount, call drive.mount(\"/content/drive\", force_remount=True).\n",
            "Podaj URL pliku do pobrania: http://pnt.euro-centrum.com.pl/files/post/1384/zalacznik-nr-1-do-Regulaminu_Z-12.doc\n",
            "Plik został pomyślnie pobrany i zapisany jako: /content/drive/MyDrive/zalacznik-nr-1-do-Regulaminu_Z-12.doc\n"
          ]
        }
      ]
    },
    {
      "cell_type": "code",
      "source": [],
      "metadata": {
        "id": "8HuEbJZeKAC5"
      },
      "execution_count": null,
      "outputs": []
    }
  ]
}